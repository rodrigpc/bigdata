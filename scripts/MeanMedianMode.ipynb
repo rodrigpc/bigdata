{
 "cells": [
  {
   "cell_type": "markdown",
   "metadata": {
    "deletable": true,
    "editable": true
   },
   "source": [
    "# Mean, Median, Mode, and introducing NumPy"
   ]
  },
  {
   "cell_type": "markdown",
   "metadata": {
    "deletable": true,
    "editable": true
   },
   "source": [
    "## Mean vs. Median"
   ]
  },
  {
   "cell_type": "markdown",
   "metadata": {
    "deletable": true,
    "editable": true
   },
   "source": [
    "Let's create some fake income data, centered around 27,000 with a normal distribution and standard deviation of 15,000, with 10,000 data points. (We'll discuss those terms more later, if you're not familiar with them.)\n",
    "\n",
    "Then, compute the mean (average) - it should be close to 27,000:"
   ]
  },
  {
   "cell_type": "code",
   "execution_count": 13,
   "metadata": {
    "collapsed": false,
    "deletable": true,
    "editable": true
   },
   "outputs": [
    {
     "data": {
      "text/plain": [
       "27046.82773356809"
      ]
     },
     "execution_count": 13,
     "metadata": {},
     "output_type": "execute_result"
    }
   ],
   "source": [
    "import numpy as np\n",
    "\n",
    "incomes = np.random.normal(27000, 15000, 10000)\n",
    "np.mean(incomes)"
   ]
  },
  {
   "cell_type": "markdown",
   "metadata": {
    "deletable": true,
    "editable": true
   },
   "source": [
    "We can segment the income data into 50 buckets, and plot it as a histogram:"
   ]
  },
  {
   "cell_type": "code",
   "execution_count": 14,
   "metadata": {
    "collapsed": false,
    "deletable": true,
    "editable": true
   },
   "outputs": [
    {
     "data": {
      "image/png": "[encoded data removed]",
      "text/plain": [
       "<matplotlib.figure.Figure at 0x7f2803de9470>"
      ]
     },
     "metadata": {},
     "output_type": "display_data"
    }
   ],
   "source": [
    "%matplotlib inline\n",
    "import matplotlib.pyplot as plt\n",
    "plt.hist(incomes, 50)\n",
    "plt.show()"
   ]
  },
  {
   "cell_type": "markdown",
   "metadata": {
    "deletable": true,
    "editable": true
   },
   "source": [
    "Now compute the median - since we have a nice, even distribution it too should be close to 27,000:"
   ]
  },
  {
   "cell_type": "code",
   "execution_count": 15,
   "metadata": {
    "collapsed": false,
    "deletable": true,
    "editable": true
   },
   "outputs": [
    {
     "data": {
      "text/plain": [
       "27108.10762037387"
      ]
     },
     "execution_count": 15,
     "metadata": {},
     "output_type": "execute_result"
    }
   ],
   "source": [
    "np.median(incomes)"
   ]
  },
  {
   "cell_type": "markdown",
   "metadata": {
    "deletable": true,
    "editable": true
   },
   "source": [
    "Now we'll add Donald Trump into the mix. Darn income inequality!"
   ]
  },
  {
   "cell_type": "code",
   "execution_count": 16,
   "metadata": {
    "collapsed": false,
    "deletable": true,
    "editable": true
   },
   "outputs": [],
   "source": [
    "incomes = np.append(incomes, [1000000000])"
   ]
  },
  {
   "cell_type": "markdown",
   "metadata": {
    "deletable": true,
    "editable": true
   },
   "source": [
    "The median won't change much, but the mean does:"
   ]
  },
  {
   "cell_type": "code",
   "execution_count": 17,
   "metadata": {
    "collapsed": false,
    "deletable": true,
    "editable": true
   },
   "outputs": [
    {
     "data": {
      "text/plain": [
       "27109.106351794231"
      ]
     },
     "execution_count": 17,
     "metadata": {},
     "output_type": "execute_result"
    }
   ],
   "source": [
    "np.median(incomes)"
   ]
  },
  {
   "cell_type": "code",
   "execution_count": 18,
   "metadata": {
    "collapsed": false,
    "deletable": true,
    "editable": true
   },
   "outputs": [
    {
     "data": {
      "text/plain": [
       "127034.12432113595"
      ]
     },
     "execution_count": 18,
     "metadata": {},
     "output_type": "execute_result"
    }
   ],
   "source": [
    "np.mean(incomes)"
   ]
  },
  {
   "cell_type": "markdown",
   "metadata": {
    "deletable": true,
    "editable": true
   },
   "source": [
    "## Mode"
   ]
  },
  {
   "cell_type": "markdown",
   "metadata": {
    "deletable": true,
    "editable": true
   },
   "source": [
    "Next, let's generate some fake age data for 500 people:"
   ]
  },
  {
   "cell_type": "code",
   "execution_count": 20,
   "metadata": {
    "collapsed": false,
    "deletable": true,
    "editable": true
   },
   "outputs": [
    {
     "data": {
      "text/plain": [
       "array([83, 77, 31, 36, 62, 84, 76, 49, 23, 59, 22, 75, 60, 82, 64, 56, 84,\n",
       "       50, 37, 82, 26, 65, 49, 43, 67, 21, 24, 21, 52, 45, 61, 77, 75, 89,\n",
       "       63, 22, 89, 68, 64, 54, 82, 24, 52, 35, 68, 89, 30, 64, 24, 64, 44,\n",
       "       48, 62, 18, 62, 28, 33, 31, 77, 24, 18, 41, 38, 69, 42, 22, 89, 74,\n",
       "       34, 51, 46, 40, 33, 40, 89, 60, 80, 37, 24, 42, 80, 50, 71, 78, 61,\n",
       "       25, 68, 40, 28, 74, 39, 52, 87, 25, 29, 82, 40, 69, 57, 39, 62, 69,\n",
       "       87, 31, 57, 77, 47, 85, 70, 82, 75, 48, 42, 45, 80, 69, 26, 48, 76,\n",
       "       78, 51, 68, 67, 38, 31, 49, 43, 31, 47, 45, 67, 61, 72, 34, 68, 45,\n",
       "       59, 64, 45, 74, 25, 88, 81, 55, 62, 83, 24, 83, 79, 24, 63, 27, 36,\n",
       "       38, 55, 54, 61, 18, 60, 48, 50, 41, 62, 79, 62, 26, 61, 20, 56, 48,\n",
       "       55, 71, 69, 29, 18, 67, 82, 84, 52, 68, 44, 32, 50, 20, 32, 21, 33,\n",
       "       34, 70, 59, 55, 47, 56, 45, 82, 51, 52, 40, 44, 25, 72, 65, 72, 19,\n",
       "       39, 88, 40, 40, 37, 31, 69, 67, 52, 41, 52, 24, 75, 50, 71, 82, 34,\n",
       "       79, 21, 30, 86, 81, 37, 71, 50, 70, 29, 83, 19, 25, 62, 34, 21, 39,\n",
       "       59, 78, 50, 80, 87, 52, 68, 20, 38, 61, 26, 48, 21, 80, 83, 42, 72,\n",
       "       79, 28, 89, 42, 47, 34, 78, 83, 71, 38, 63, 82, 56, 66, 26, 31, 25,\n",
       "       85, 18, 89, 82, 52, 79, 75, 31, 69, 27, 44, 83, 74, 49, 58, 62, 33,\n",
       "       51, 23, 25, 69, 68, 86, 38, 39, 78, 30, 53, 61, 56, 81, 80, 38, 34,\n",
       "       25, 64, 42, 21, 24, 71, 77, 58, 77, 86, 72, 65, 29, 74, 67, 68, 71,\n",
       "       30, 65, 84, 18, 38, 82, 44, 61, 60, 44, 81, 56, 66, 61, 26, 72, 47,\n",
       "       39, 44, 24, 77, 73, 54, 83, 49, 76, 32, 71, 78, 28, 64, 41, 18, 41,\n",
       "       18, 32, 31, 29, 77, 46, 65, 24, 23, 75, 64, 47, 37, 74, 85, 39, 59,\n",
       "       46, 60, 33, 61, 78, 22, 45, 37, 49, 57, 87, 21, 22, 64, 51, 39, 38,\n",
       "       18, 61, 35, 34, 61, 61, 25, 79, 89, 35, 47, 68, 18, 27, 77, 63, 54,\n",
       "       61, 38, 75, 48, 66, 55, 50, 47, 33, 83, 43, 30, 86, 60, 60, 19, 74,\n",
       "       79, 44, 78, 88, 35, 73, 25, 38, 74, 43, 40, 47, 62, 82, 77, 74, 30,\n",
       "       47, 45, 53, 49, 89, 35, 29, 84, 86, 44, 61, 39, 89, 38, 63, 79, 67,\n",
       "       43, 59, 63, 37, 80, 59, 81, 88, 28, 79, 53, 34, 26, 79, 61, 77, 22,\n",
       "       76, 69, 75, 47, 51, 20, 38, 35, 74, 69, 77, 32, 69, 81, 81, 67, 31,\n",
       "       64, 60, 23, 88, 58, 47, 24])"
      ]
     },
     "execution_count": 20,
     "metadata": {},
     "output_type": "execute_result"
    }
   ],
   "source": [
    "ages = np.random.randint(18, high=90, size=500)\n",
    "ages"
   ]
  },
  {
   "cell_type": "code",
   "execution_count": 21,
   "metadata": {
    "collapsed": false,
    "deletable": true,
    "editable": true
   },
   "outputs": [
    {
     "data": {
      "text/plain": [
       "ModeResult(mode=array([61]), count=array([16]))"
      ]
     },
     "execution_count": 21,
     "metadata": {},
     "output_type": "execute_result"
    }
   ],
   "source": [
    "from scipy import stats\n",
    "stats.mode(ages)"
   ]
  },
  {
   "cell_type": "code",
   "execution_count": null,
   "metadata": {
    "collapsed": false,
    "deletable": true,
    "editable": true
   },
   "outputs": [],
   "source": []
  }
 ],
 "metadata": {
  "kernelspec": {
   "display_name": "Python 3",
   "language": "python",
   "name": "python3"
  },
  "language_info": {
   "codemirror_mode": {
    "name": "ipython",
    "version": 3
   },
   "file_extension": ".py",
   "mimetype": "text/x-python",
   "name": "python",
   "nbconvert_exporter": "python",
   "pygments_lexer": "ipython3",
   "version": "3.5.2"
  }
 },
 "nbformat": 4,
 "nbformat_minor": 0
}
